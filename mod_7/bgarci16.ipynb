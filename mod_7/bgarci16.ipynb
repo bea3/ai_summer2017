{
 "cells": [
  {
   "cell_type": "markdown",
   "metadata": {},
   "source": [
    "# Module 7 - Programming Assignment\n",
    "\n",
    "## Directions\n",
    "\n",
    "There are general instructions on Blackboard and in the Syllabus for Programming Assignments. This Notebook also has instructions specific to this assignment. Read all the instructions carefully and make sure you understand them. Please ask questions on the discussion boards or email me at `EN605.445@gmail.com` if you do not understand something.\n",
    "\n",
    "<div style=\"background: mistyrose; color: firebrick; border: 2px solid darkred; padding: 5px; margin: 10px;\">\n",
    "You must follow the directions *exactly* or you will get a 0 on the assignment.\n",
    "</div>\n",
    "\n",
    "You must submit a zip file of your assignment and associated files (if there are any) to Blackboard. The zip file will be named after you JHED ID: `<jhed_id>.zip`. It will not include any other information. Inside this zip file should be the following directory structure:\n",
    "\n",
    "```\n",
    "<jhed_id>\n",
    "    |\n",
    "    +--module-01-programming.ipynb\n",
    "    +--module-01-programming.html\n",
    "    +--(any other files)\n",
    "```\n",
    "\n",
    "For example, do not name  your directory `programming_assignment_01` and do not name your directory `smith122_pr1` or any else. It must be only your JHED ID.\n",
    "\n",
    "Imports here if needed."
   ]
  },
  {
   "cell_type": "code",
   "execution_count": 1,
   "metadata": {
    "collapsed": true
   },
   "outputs": [],
   "source": [
    "from unification import parse, unification, unify"
   ]
  },
  {
   "cell_type": "markdown",
   "metadata": {},
   "source": [
    "# Forward Planner\n",
    "\n",
    "## Unify\n",
    "\n",
    "Use the accompanying `unification.py` file for unification. For this assignment, you're almost certainly going to want to be able to:\n",
    "\n",
    "1. specify the problem in terms of S-expressions.\n",
    "2. parse them.\n",
    "3. work with the parsed versions.\n",
    "\n",
    "`parse` and `unification` work exactly like the programming assignment for last time."
   ]
  },
  {
   "cell_type": "code",
   "execution_count": 2,
   "metadata": {
    "collapsed": true
   },
   "outputs": [],
   "source": [
    "from unification import parse, unification"
   ]
  },
  {
   "cell_type": "markdown",
   "metadata": {},
   "source": [
    "## Forward Planner\n",
    "\n",
    "In this assigment, you're going to implement a Forward Planner. What does that mean? If you look in your book, you will not find pseudocode for a forward planner. It just says \"use state space search\" but this is less than helpful and it's a bit more complicated than that. **(but please please do not try to implement STRIPS or GraphPlan...that is wrong).**\n",
    "\n",
    "At a high level, a forward planner takes the current state of the world $S_0$ and attempts to derive a plan, basically by Depth First Search. We have all the ingredients we said we would need in Module 1: states, actions, a transition function and a goal test. We have a set of predicates that describe a state (and therefore all possible states), we have actions and we have, at least, an implicit transition function: applying an action in a state causes the state to change as described by the add and delete lists.\n",
    "\n",
    "Let's say we have a drill that's an item, two places such as home and store, and we know that I'm at home and the drill is at the store and I want to go buy a drill (have it be at home). We might represent that as:\n",
    "\n",
    "<code>\n",
    "start_state = [\n",
    "    \"(item Drill)\",\n",
    "    \"(place Home)\",\n",
    "    \"(place Store)\",\n",
    "    \"(agent Me)\",\n",
    "    \"(at Me Home)\",\n",
    "    \"(at Drill Store)\"\n",
    "]\n",
    "</code>\n",
    "\n",
    "And we have a goal state:\n",
    "\n",
    "<code>\n",
    "goal = [\n",
    "    \"(item Drill)\",\n",
    "    \"(place Home)\",\n",
    "    \"(place Store)\",\n",
    "    \"(agent Me)\",\n",
    "    \"(at Me Home)\",\n",
    "    \"(at Drill Me)\"\n",
    "]\n",
    "</code>\n",
    "\n",
    "The actions/operators are:\n",
    "\n",
    "<code>\n",
    "actions = {\n",
    "    \"drive\": {\n",
    "        \"action\": \"(drive ?agent ?from ?to)\",\n",
    "        \"conditions\": [\n",
    "            \"(agent ?agent)\",\n",
    "            \"(place ?from)\",\n",
    "            \"(place ?to)\",\n",
    "            \"(at ?agent ?from)\"\n",
    "        ],\n",
    "        \"add\": [\n",
    "            \"(at ?agent ?to)\"\n",
    "        ],\n",
    "        \"delete\": [\n",
    "            \"(at ?agent ?from)\"\n",
    "        ]\n",
    "    },\n",
    "    \"buy\": {\n",
    "        \"action\": \"(buy ?purchaser ?seller ?item)\",\n",
    "        \"conditions\": [\n",
    "            \"(item ?item)\",\n",
    "            \"(place ?seller)\",\n",
    "            \"(agent ?purchaser)\",\n",
    "            \"(at ?item ?seller)\",\n",
    "            \"(at ?purchaser ?seller)\"\n",
    "        ],\n",
    "        \"add\": [\n",
    "            \"(at ?item ?purchaser)\"\n",
    "        ],\n",
    "        \"delete\": [\n",
    "            \"(at ?item ?seller)\"\n",
    "        ]\n",
    "    }\n",
    "}\n",
    "</code>\n",
    "\n",
    "These will all need to be parsed from s-expressions to the underlying Python representation before you can use them. You might as well do it at the start of your algorithm, once. The order of the conditions is *not* arbitrary. It is much, much better for the unification and backtracking if you have the \"type\" predicates (item, place, agent) before the more complex ones. Trust me on this.\n",
    "\n",
    "As for the algorithm itself, there is going to be an *outer* level of search and an *inner* level of search.\n",
    "\n",
    "The *outer* level of search that is exactly what I describe here: you have a state, you generate successor states by applying actions to the current state, you examine those successor states as we did at the first week of the semester and if one is the goal you stop, if you see a repeat state, you put it on the explored list (you should implement graph search not tree search). What could be simpler?\n",
    "\n",
    "It turns out the Devil is in the details. There is an *inner* level of search hidden in \"you generate successor states by applying actions to the current state\". Where?\n",
    "\n",
    "How do you know if an action applies in a state? Only if the preconditions successfully unify with the current state. That seems easy enough...you check each predicate in the conditions to see if it unifies with the current state and if it does, you use the substitution list on the action, the add and delete lists and create the successor state based on them.\n",
    "\n",
    "Except for one small problem...there may be more than one way to unify an action with the current state. You must essentially search for all successful unifications of the candidate action and the current state. This is where my question through the semester appliesm, \"how would you modify state space search to return all the paths to the goal?\"\n",
    "\n",
    "Unification can be seen as state space search by trying to unify the first precondition with the current state, progressively working your way through the precondition list. If you fail at any point, you may need to backtrack because there might have been another unification of that predicate that would succeed. Similarly, as already mentioned, there may be more than one.\n",
    "\n",
    "So...by using unification and a properly defined <code>successors</code> function, you should be able to apply graph based search to the problem and return a \"path\" through the states from the initial state to the goal. You'll definitely want to use graph-based search since <code>( drive Me Store), (drive Me Home), (drive Me Store), (drive Me Home), (drive Me Store), (buy Me Store Drill), (drive Me Home)</code> is a valid plan.\n",
    "\n",
    "Your function should return the plan...but if you pass an extra debug=True parameter, it should also return the intermediate *states* as well as the actions.\n",
    "\n",
    "-----"
   ]
  },
  {
   "cell_type": "markdown",
   "metadata": {},
   "source": [
    "**found_goal**\n",
    "\n",
    "Parameters:\n",
    "* state - current state to compare goal to\n",
    "* goal - goal state\n",
    "\n",
    "Returns - True, if goal has been met. False, otherwise."
   ]
  },
  {
   "cell_type": "code",
   "execution_count": 3,
   "metadata": {
    "collapsed": true
   },
   "outputs": [],
   "source": [
    "def found_goal(state, goal):\n",
    "    goal_state = copy.deepcopy(goal)\n",
    "\n",
    "    if len(state) < len(goal):\n",
    "        return False\n",
    "\n",
    "    for x in state:\n",
    "        if x in goal_state:\n",
    "            goal_state.remove(x)\n",
    "\n",
    "    return len(goal_state) == 0"
   ]
  },
  {
   "cell_type": "markdown",
   "metadata": {},
   "source": [
    "**apply_action**\n",
    "\n",
    "Parameters:\n",
    "* action_exp - the action expression to apply to\n",
    "* sub_list - the substitution list of replacing variables and the actual items\n",
    "\n",
    "Returns - The new action expression that may have been edited."
   ]
  },
  {
   "cell_type": "code",
   "execution_count": 4,
   "metadata": {
    "collapsed": true
   },
   "outputs": [],
   "source": [
    "def apply_action(action_exp, sub_list):\n",
    "    for item in sub_list:\n",
    "        action_exp = action_exp.replace(item, sub_list[item])\n",
    "    return action_exp"
   ]
  },
  {
   "cell_type": "markdown",
   "metadata": {},
   "source": [
    "**get_unifications**\n",
    "\n",
    "Parameters:\n",
    "* state - current state that will be used to compare\n",
    "* partial_action - current action expression being edited\n",
    "* precondition - condition that is being unified\n",
    "\n",
    "Returns - the new action that was applied by the state."
   ]
  },
  {
   "cell_type": "code",
   "execution_count": 5,
   "metadata": {
    "collapsed": true
   },
   "outputs": [],
   "source": [
    "def get_unifications(state, partial_action, precondition):\n",
    "    for rule in state:\n",
    "        sub_list = unify(rule, precondition)\n",
    "        if sub_list != False:\n",
    "            partial_action = apply_action(partial_action, sub_list)\n",
    "    return partial_action"
   ]
  },
  {
   "cell_type": "markdown",
   "metadata": {},
   "source": [
    "**generate_successor_states**\n",
    "\n",
    "Parameters:\n",
    "* state - current state that will be used to generate successor state. The current node.\n",
    "* actions - available actions that will be used to find the successor states.\n",
    "\n",
    "Returns - a list of available actions that can be taken."
   ]
  },
  {
   "cell_type": "markdown",
   "metadata": {},
   "source": [
    "(you can just overwrite that one and add as many others as you need). Remember to follow the **Guidelines**.\n",
    "\n",
    "\n",
    "-----\n",
    "\n",
    "So you need to implement `forward_planner` as described above. `start_state`, `goal` and `actions` should all have the layout above and be s-expressions.\n",
    "\n",
    "Your implementation should return the plan as a **List of instantiated actions**. If `debug=True`, you should print out the intermediate states of the plan as well."
   ]
  },
  {
   "cell_type": "code",
   "execution_count": 6,
   "metadata": {
    "collapsed": true
   },
   "outputs": [],
   "source": [
    "def forward_planner(start_state, goal, actions, visited=None, debug=False):\n",
    "    if found_goal(start_state, goal):\n",
    "        return visited\n",
    "\n",
    "    if visited is None:\n",
    "        visited = [start_state]\n",
    "\n",
    "    stack = []\n",
    "    successor_states = generate_successor_states(start_state, actions)\n",
    "\n",
    "    stack.insert(len(stack), successor_states[0])\n",
    "\n",
    "    while len(stack) > 0:\n",
    "        x = stack.pop(0)\n",
    "        if x not in visited:\n",
    "            visited.append(x)\n",
    "            forward_planner(x, goal, actions, visited=visited, debug=debug)\n",
    "\n",
    "    return []"
   ]
  },
  {
   "cell_type": "markdown",
   "metadata": {},
   "source": [
    "You will be solving the problem from above. Here is the start state:"
   ]
  },
  {
   "cell_type": "code",
   "execution_count": 7,
   "metadata": {
    "collapsed": true
   },
   "outputs": [],
   "source": [
    "start_state = [\n",
    "    \"(item Drill)\",\n",
    "    \"(place Home)\",\n",
    "    \"(place Store)\",\n",
    "    \"(agent Me)\",\n",
    "    \"(at Me Home)\",\n",
    "    \"(at Drill Store)\"\n",
    "]"
   ]
  },
  {
   "cell_type": "markdown",
   "metadata": {},
   "source": [
    "The goal state:"
   ]
  },
  {
   "cell_type": "code",
   "execution_count": 8,
   "metadata": {
    "collapsed": true
   },
   "outputs": [],
   "source": [
    "goal = [\n",
    "    \"(item Drill)\",\n",
    "    \"(place Home)\",\n",
    "    \"(place Store)\",\n",
    "    \"(agent Me)\",\n",
    "    \"(at Me Home)\",\n",
    "    \"(at Drill Me)\"\n",
    "]"
   ]
  },
  {
   "cell_type": "markdown",
   "metadata": {},
   "source": [
    "and the actions/operators:"
   ]
  },
  {
   "cell_type": "code",
   "execution_count": 9,
   "metadata": {
    "collapsed": true
   },
   "outputs": [],
   "source": [
    "actions = {\n",
    "    \"drive\": {\n",
    "        \"action\": \"(drive ?agent ?from ?to)\",\n",
    "        \"conditions\": [\n",
    "            \"(agent ?agent)\",\n",
    "            \"(place ?from)\",\n",
    "            \"(place ?to)\",\n",
    "            \"(at ?agent ?from)\"\n",
    "        ],\n",
    "        \"add\": [\n",
    "            \"(at ?agent ?to)\"\n",
    "        ],\n",
    "        \"delete\": [\n",
    "            \"(at ?agent ?from)\"\n",
    "        ]\n",
    "    },\n",
    "    \"buy\": {\n",
    "        \"action\": \"(buy ?purchaser ?seller ?item)\",\n",
    "        \"conditions\": [\n",
    "            \"(item ?item)\",\n",
    "            \"(place ?seller)\",\n",
    "            \"(agent ?purchaser)\",\n",
    "            \"(at ?item ?seller)\",\n",
    "            \"(at ?purchaser ?seller)\"\n",
    "        ],\n",
    "        \"add\": [\n",
    "            \"(at ?item ?purchaser)\"\n",
    "        ],\n",
    "        \"delete\": [\n",
    "            \"(at ?item ?seller)\"\n",
    "        ]\n",
    "    }\n",
    "}"
   ]
  },
  {
   "cell_type": "code",
   "execution_count": 10,
   "metadata": {},
   "outputs": [
    {
     "ename": "NameError",
     "evalue": "global name 'copy' is not defined",
     "output_type": "error",
     "traceback": [
      "\u001b[0;31m---------------------------------------------------------------------------\u001b[0m",
      "\u001b[0;31mNameError\u001b[0m                                 Traceback (most recent call last)",
      "\u001b[0;32m<ipython-input-10-569231fc94ba>\u001b[0m in \u001b[0;36m<module>\u001b[0;34m()\u001b[0m\n\u001b[0;32m----> 1\u001b[0;31m \u001b[0mplan\u001b[0m \u001b[0;34m=\u001b[0m \u001b[0mforward_planner\u001b[0m\u001b[0;34m(\u001b[0m \u001b[0mstart_state\u001b[0m\u001b[0;34m,\u001b[0m \u001b[0mgoal\u001b[0m\u001b[0;34m,\u001b[0m \u001b[0mactions\u001b[0m\u001b[0;34m)\u001b[0m\u001b[0;34m\u001b[0m\u001b[0m\n\u001b[0m\u001b[1;32m      2\u001b[0m \u001b[0;32mprint\u001b[0m \u001b[0mplan\u001b[0m\u001b[0;34m\u001b[0m\u001b[0m\n",
      "\u001b[0;32m<ipython-input-6-1c161b70ba4f>\u001b[0m in \u001b[0;36mforward_planner\u001b[0;34m(start_state, goal, actions, visited, debug)\u001b[0m\n\u001b[1;32m      1\u001b[0m \u001b[0;32mdef\u001b[0m \u001b[0mforward_planner\u001b[0m\u001b[0;34m(\u001b[0m\u001b[0mstart_state\u001b[0m\u001b[0;34m,\u001b[0m \u001b[0mgoal\u001b[0m\u001b[0;34m,\u001b[0m \u001b[0mactions\u001b[0m\u001b[0;34m,\u001b[0m \u001b[0mvisited\u001b[0m\u001b[0;34m=\u001b[0m\u001b[0mNone\u001b[0m\u001b[0;34m,\u001b[0m \u001b[0mdebug\u001b[0m\u001b[0;34m=\u001b[0m\u001b[0mFalse\u001b[0m\u001b[0;34m)\u001b[0m\u001b[0;34m:\u001b[0m\u001b[0;34m\u001b[0m\u001b[0m\n\u001b[0;32m----> 2\u001b[0;31m     \u001b[0;32mif\u001b[0m \u001b[0mfound_goal\u001b[0m\u001b[0;34m(\u001b[0m\u001b[0mstart_state\u001b[0m\u001b[0;34m,\u001b[0m \u001b[0mgoal\u001b[0m\u001b[0;34m)\u001b[0m\u001b[0;34m:\u001b[0m\u001b[0;34m\u001b[0m\u001b[0m\n\u001b[0m\u001b[1;32m      3\u001b[0m         \u001b[0;32mreturn\u001b[0m \u001b[0mvisited\u001b[0m\u001b[0;34m\u001b[0m\u001b[0m\n\u001b[1;32m      4\u001b[0m \u001b[0;34m\u001b[0m\u001b[0m\n\u001b[1;32m      5\u001b[0m     \u001b[0;32mif\u001b[0m \u001b[0mvisited\u001b[0m \u001b[0;32mis\u001b[0m \u001b[0mNone\u001b[0m\u001b[0;34m:\u001b[0m\u001b[0;34m\u001b[0m\u001b[0m\n",
      "\u001b[0;32m<ipython-input-3-bb3766b9734d>\u001b[0m in \u001b[0;36mfound_goal\u001b[0;34m(state, goal)\u001b[0m\n\u001b[1;32m      1\u001b[0m \u001b[0;32mdef\u001b[0m \u001b[0mfound_goal\u001b[0m\u001b[0;34m(\u001b[0m\u001b[0mstate\u001b[0m\u001b[0;34m,\u001b[0m \u001b[0mgoal\u001b[0m\u001b[0;34m)\u001b[0m\u001b[0;34m:\u001b[0m\u001b[0;34m\u001b[0m\u001b[0m\n\u001b[0;32m----> 2\u001b[0;31m     \u001b[0mgoal_state\u001b[0m \u001b[0;34m=\u001b[0m \u001b[0mcopy\u001b[0m\u001b[0;34m.\u001b[0m\u001b[0mdeepcopy\u001b[0m\u001b[0;34m(\u001b[0m\u001b[0mgoal\u001b[0m\u001b[0;34m)\u001b[0m\u001b[0;34m\u001b[0m\u001b[0m\n\u001b[0m\u001b[1;32m      3\u001b[0m \u001b[0;34m\u001b[0m\u001b[0m\n\u001b[1;32m      4\u001b[0m     \u001b[0;32mif\u001b[0m \u001b[0mlen\u001b[0m\u001b[0;34m(\u001b[0m\u001b[0mstate\u001b[0m\u001b[0;34m)\u001b[0m \u001b[0;34m<\u001b[0m \u001b[0mlen\u001b[0m\u001b[0;34m(\u001b[0m\u001b[0mgoal\u001b[0m\u001b[0;34m)\u001b[0m\u001b[0;34m:\u001b[0m\u001b[0;34m\u001b[0m\u001b[0m\n\u001b[1;32m      5\u001b[0m         \u001b[0;32mreturn\u001b[0m \u001b[0mFalse\u001b[0m\u001b[0;34m\u001b[0m\u001b[0m\n",
      "\u001b[0;31mNameError\u001b[0m: global name 'copy' is not defined"
     ]
    }
   ],
   "source": [
    "plan = forward_planner( start_state, goal, actions)\n",
    "print plan"
   ]
  },
  {
   "cell_type": "code",
   "execution_count": null,
   "metadata": {
    "collapsed": true
   },
   "outputs": [],
   "source": [
    "plan_with_states = forward_planner( start_state, goal, actions, debug=True)\n",
    "print plan_with_states"
   ]
  }
 ],
 "metadata": {
  "kernelspec": {
   "display_name": "Python 2",
   "language": "python",
   "name": "python2"
  },
  "language_info": {
   "codemirror_mode": {
    "name": "ipython",
    "version": 2
   },
   "file_extension": ".py",
   "mimetype": "text/x-python",
   "name": "python",
   "nbconvert_exporter": "python",
   "pygments_lexer": "ipython2",
   "version": "2.7.13"
  }
 },
 "nbformat": 4,
 "nbformat_minor": 1
}
